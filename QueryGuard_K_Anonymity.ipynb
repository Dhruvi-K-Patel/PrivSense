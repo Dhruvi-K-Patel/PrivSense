{
  "cells": [
    {
      "cell_type": "markdown",
      "id": "nFmN63NP-trn",
      "metadata": {
        "id": "nFmN63NP-trn"
      },
      "source": [
        "## Section 1: Setup and Installations\n",
        "### Install necessary libraries if not already installed (Uncomment the following lines if needed)\n",
        "#### pip install pandas numpy scikit-learn"
      ]
    },
    {
      "cell_type": "markdown",
      "id": "DHbvYZrp_GdC",
      "metadata": {
        "id": "DHbvYZrp_GdC"
      },
      "source": [
        "## Section 2: Import Libraries"
      ]
    },
    {
      "cell_type": "code",
      "execution_count": 1,
      "id": "7195968e",
      "metadata": {
        "id": "7195968e"
      },
      "outputs": [],
      "source": [
        "import pandas as pd\n",
        "import numpy as np\n",
        "from sklearn.cluster import KMeans\n",
        "from sklearn.preprocessing import normalize\n",
        "from sklearn.feature_extraction.text import TfidfVectorizer\n",
        "\n"
      ]
    },
    {
      "cell_type": "markdown",
      "id": "zkfznwXU_BTi",
      "metadata": {
        "id": "zkfznwXU_BTi"
      },
      "source": [
        "## Section 3: Loading Data from Excel"
      ]
    },
    {
      "cell_type": "code",
      "execution_count": 4,
      "id": "a888c336",
      "metadata": {
        "id": "a888c336"
      },
      "outputs": [],
      "source": [
        "# Function to load data\n",
        "def load_data(filepath):\n",
        "    try:\n",
        "        return pd.read_excel(filepath)\n",
        "    except Exception as e:\n",
        "        print(f\"Failed to load data: {e}\")\n",
        "        return pd.DataFrame()\n",
        "\n",
        "data = load_data('QueryGuard_KMeans_Clustering.xlsx')"
      ]
    },
    {
      "cell_type": "markdown",
      "id": "nU5-dNhM-5PT",
      "metadata": {
        "id": "nU5-dNhM-5PT"
      },
      "source": [
        "## Section 4: Verifying Data Load"
      ]
    },
    {
      "cell_type": "code",
      "execution_count": 5,
      "id": "b2a0c7c1",
      "metadata": {
        "colab": {
          "base_uri": "https://localhost:8080/"
        },
        "id": "b2a0c7c1",
        "outputId": "2a29dda8-d14b-47d1-c8ad-1543064ad63b"
      },
      "outputs": [
        {
          "name": "stdout",
          "output_type": "stream",
          "text": [
            "Data loaded successfully.\n"
          ]
        }
      ],
      "source": [
        "# Ensure data is loaded\n",
        "if data.empty:\n",
        "    print(\"No data loaded. Check the file path and format.\")\n",
        "else:\n",
        "    print(\"Data loaded successfully.\")\n"
      ]
    },
    {
      "cell_type": "markdown",
      "id": "ArTRx6hA-6Sp",
      "metadata": {
        "id": "ArTRx6hA-6Sp"
      },
      "source": [
        "## Section 5: Generalizing Query Time to Year-Month"
      ]
    },
    {
      "cell_type": "code",
      "execution_count": 6,
      "id": "2e983516",
      "metadata": {
        "colab": {
          "base_uri": "https://localhost:8080/"
        },
        "id": "2e983516",
        "outputId": "bd90c0b7-1765-474d-c4a8-ff31e0223967"
      },
      "outputs": [
        {
          "name": "stdout",
          "output_type": "stream",
          "text": [
            "Time generalization applied.\n"
          ]
        }
      ],
      "source": [
        "# Generalize 'QueryTime' to year-month\n",
        "try:\n",
        "    data['QueryTime'] = pd.to_datetime(data['QueryTime'])\n",
        "    data['QueryTime'] = data['QueryTime'].dt.to_period('M')\n",
        "    print(\"Time generalization applied.\")\n",
        "except Exception as e:\n",
        "    print(f\"Error processing time data: {e}\")\n"
      ]
    },
    {
      "cell_type": "markdown",
      "id": "e6gz-pPy-7E4",
      "metadata": {
        "id": "e6gz-pPy-7E4"
      },
      "source": [
        "## Section 6: Generalizing Queries within Cluster"
      ]
    },
    {
      "cell_type": "code",
      "execution_count": 7,
      "id": "7df3719f",
      "metadata": {
        "colab": {
          "base_uri": "https://localhost:8080/"
        },
        "id": "7df3719f",
        "outputId": "327865aa-17c9-4252-f20c-7180e7671810"
      },
      "outputs": [
        {
          "name": "stdout",
          "output_type": "stream",
          "text": [
            "Cluster names mapped. Here are some examples:\n",
            "   Cluster                        GeneralizedQuery\n",
            "0        6        Miscellaneous Personal Interests\n",
            "1        3  Educational and Philosophical Research\n",
            "2        3  Educational and Philosophical Research\n",
            "3        8    Entertainment and Personal Vendettas\n",
            "4        8    Entertainment and Personal Vendettas\n"
          ]
        }
      ],
      "source": [
        "# Map clusters to names\n",
        "try:\n",
        "    cluster_names = {\n",
        "         0: 'General Services and Information Portals',\n",
        "    1: 'Specialized Hobby and Lifestyle Products',\n",
        "    2: 'Educational and Government Online Services',\n",
        "    3: 'Educational and Philosophical Research',\n",
        "    4: 'Relationship Revenge and Miscellaneous Interests',\n",
        "    5: 'Healthcare and Nursing Education',\n",
        "    6: 'Miscellaneous Personal Interests',\n",
        "    7: 'Government and Personal Services',\n",
        "    8: 'Entertainment and Personal Vendettas',\n",
        "    9: 'Undefined or Missing Queries',\n",
        "   10: 'Web Navigation and E-commerce',\n",
        "   11: 'Entertainment, Education, and Services',\n",
        "   12: 'Niche and Detailed Inquiries',\n",
        "   13: 'Automotive Customization and Tech Products',\n",
        "   14: 'New Jersey Services and Shopping'\n",
        "    }\n",
        "    data['GeneralizedQuery'] = data['Cluster'].map(cluster_names)\n",
        "    print(\"Cluster names mapped. Here are some examples:\")\n",
        "    print(data[['Cluster', 'GeneralizedQuery']].head())\n",
        "except Exception as e:\n",
        "    print(f\"Error mapping cluster names: {e}\")"
      ]
    },
    {
      "cell_type": "code",
      "execution_count": 8,
      "id": "9b41a6e8",
      "metadata": {
        "colab": {
          "base_uri": "https://localhost:8080/"
        },
        "id": "9b41a6e8",
        "outputId": "772fe4df-e6c7-4a3c-c623-d8989ea76375"
      },
      "outputs": [
        {
          "name": "stdout",
          "output_type": "stream",
          "text": [
            "Query column replaced with generalized names.\n"
          ]
        }
      ],
      "source": [
        "if 'GeneralizedQuery' in data.columns:\n",
        "    data['Query'] = data['GeneralizedQuery']\n",
        "    data.drop('GeneralizedQuery', axis=1, inplace=True)\n",
        "    print(\"Query column replaced with generalized names.\")\n",
        "else:\n",
        "    print(\"GeneralizedQuery column not found.\")\n"
      ]
    },
    {
      "cell_type": "markdown",
      "id": "Smmhao4t-9A6",
      "metadata": {
        "id": "Smmhao4t-9A6"
      },
      "source": [
        "## Section 7: Group k-Anonymity on Dataset"
      ]
    },
    {
      "cell_type": "code",
      "execution_count": 9,
      "id": "45dab1db",
      "metadata": {
        "colab": {
          "base_uri": "https://localhost:8080/"
        },
        "id": "45dab1db",
        "outputId": "a2f5f17f-312a-4f53-a91d-4b58712b8b74"
      },
      "outputs": [
        {
          "name": "stdout",
          "output_type": "stream",
          "text": [
            "Data anonymized to 5-anonymity. Number of records: 19994\n"
          ]
        }
      ],
      "source": [
        "\n",
        "k = 5\n",
        "try:\n",
        "    anonymized_data = data.groupby(['Query', 'QueryTime']).filter(lambda x: len(x) >= k)\n",
        "    print(f\"Data anonymized to {k}-anonymity. Number of records: {len(anonymized_data)}\")\n",
        "except Exception as e:\n",
        "    print(f\"Error implementing k-anonymity: {e}\")\n"
      ]
    },
    {
      "cell_type": "markdown",
      "id": "r4XmynrT-9sO",
      "metadata": {
        "id": "r4XmynrT-9sO"
      },
      "source": [
        "## Section 8: Output the Anonymized Data"
      ]
    },
    {
      "cell_type": "code",
      "execution_count": 10,
      "id": "90a0b46b",
      "metadata": {
        "colab": {
          "base_uri": "https://localhost:8080/"
        },
        "id": "90a0b46b",
        "outputId": "40206511-07dc-4268-dbf4-635084b53b4a"
      },
      "outputs": [
        {
          "name": "stdout",
          "output_type": "stream",
          "text": [
            "Anonymized data saved successfully.\n"
          ]
        }
      ],
      "source": [
        "try:\n",
        "    anonymized_data.to_excel('QueryGuard_K_Anonymity.xlsx')\n",
        "    print(\"Anonymized data saved successfully.\")\n",
        "except Exception as e:\n",
        "    print(f\"Failed to save anonymized data: {e}\")\n"
      ]
    },
    {
      "cell_type": "markdown",
      "id": "-iHo247e--V4",
      "metadata": {
        "id": "-iHo247e--V4"
      },
      "source": [
        "## Section 9: Utility Calculation - `Distortion` and `Precision`"
      ]
    },
    {
      "cell_type": "code",
      "execution_count": 11,
      "id": "daebd1d2",
      "metadata": {
        "colab": {
          "base_uri": "https://localhost:8080/"
        },
        "id": "daebd1d2",
        "outputId": "6e130876-367b-4e88-e41e-f366e196b279"
      },
      "outputs": [
        {
          "name": "stdout",
          "output_type": "stream",
          "text": [
            "Distortion: 0.58\n",
            "Precision: 0.42\n"
          ]
        }
      ],
      "source": [
        "anonymity_counts = {\n",
        "    'Query': 1,\n",
        "    'QueryTime': 2\n",
        "}\n",
        "\n",
        "def distortion_ultimate(anonymity_counts):\n",
        "    d = 0\n",
        "    for attribute, attribute_level in anonymity_counts.items():\n",
        "        attribute_max_levels = attribute_level + 1\n",
        "        d += attribute_level / attribute_max_levels\n",
        "    d /= len(anonymity_counts)\n",
        "    return round(d, 2)\n",
        "\n",
        "def precision_ultimate(anonymity_counts, pt_rows):\n",
        "    p = 0\n",
        "    for attribute, attribute_level in anonymity_counts.items():\n",
        "        attribute_max_levels = attribute_level + 1\n",
        "        p += pt_rows * attribute_level / attribute_max_levels\n",
        "    return round(1 - (p / (pt_rows * len(anonymity_counts))), 2)\n",
        "\n",
        "pt_rows = 19994\n",
        "\n",
        "print(\"Distortion:\", distortion_ultimate(anonymity_counts))\n",
        "print(\"Precision:\", precision_ultimate(anonymity_counts, pt_rows))\n"
      ]
    }
  ],
  "metadata": {
    "colab": {
      "provenance": []
    },
    "kernelspec": {
      "display_name": "Python 3 (ipykernel)",
      "language": "python",
      "name": "python3"
    },
    "language_info": {
      "codemirror_mode": {
        "name": "ipython",
        "version": 3
      },
      "file_extension": ".py",
      "mimetype": "text/x-python",
      "name": "python",
      "nbconvert_exporter": "python",
      "pygments_lexer": "ipython3",
      "version": "3.9.6"
    }
  },
  "nbformat": 4,
  "nbformat_minor": 5
}
